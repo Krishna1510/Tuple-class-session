{
 "cells": [
  {
   "cell_type": "markdown",
   "id": "58a84507-ac9e-4b42-bc73-4bd562f7f7b7",
   "metadata": {},
   "source": [
    "# TUPLES\n"
   ]
  },
  {
   "cell_type": "code",
   "execution_count": 1,
   "id": "6c154af9-c619-45cc-a1fe-d6073a500676",
   "metadata": {},
   "outputs": [],
   "source": [
    "t=()"
   ]
  },
  {
   "cell_type": "code",
   "execution_count": 2,
   "id": "df05755e-b23e-48c2-af7a-8bcebd954160",
   "metadata": {},
   "outputs": [
    {
     "data": {
      "text/plain": [
       "tuple"
      ]
     },
     "execution_count": 2,
     "metadata": {},
     "output_type": "execute_result"
    }
   ],
   "source": [
    "type(t)"
   ]
  },
  {
   "cell_type": "code",
   "execution_count": 3,
   "id": "bdc33d29-3f2f-435a-bf58-7cfd75691fc5",
   "metadata": {},
   "outputs": [],
   "source": [
    "t1=(1,2,3,(1+5j),\"krishna\")"
   ]
  },
  {
   "cell_type": "code",
   "execution_count": 4,
   "id": "56c5be14-f0a2-4543-91ed-89c8cb7d1093",
   "metadata": {},
   "outputs": [
    {
     "name": "stdout",
     "output_type": "stream",
     "text": [
      "1\n",
      "2\n",
      "3\n",
      "(1+5j)\n",
      "krishna\n"
     ]
    }
   ],
   "source": [
    "for i in t1:\n",
    "    print(i)\n"
   ]
  },
  {
   "cell_type": "code",
   "execution_count": 5,
   "id": "c9ad5f61-dfff-42d0-b5ca-92fa62f495d7",
   "metadata": {},
   "outputs": [
    {
     "data": {
      "text/plain": [
       "(1, 2, 3, (1+5j), 'krishna')"
      ]
     },
     "execution_count": 5,
     "metadata": {},
     "output_type": "execute_result"
    }
   ],
   "source": [
    "t1"
   ]
  },
  {
   "cell_type": "code",
   "execution_count": 6,
   "id": "1958f13a-9a3a-4d6d-9df4-389fb0d94687",
   "metadata": {},
   "outputs": [],
   "source": [
    "t1=(1,2,3,(1+5j),\"krishna\")"
   ]
  },
  {
   "cell_type": "code",
   "execution_count": 7,
   "id": "776c1995-1d03-4c0f-9b58-3f3a0d9a8a47",
   "metadata": {},
   "outputs": [
    {
     "name": "stdout",
     "output_type": "stream",
     "text": [
      "1 <class 'int'>\n",
      "2 <class 'int'>\n",
      "3 <class 'int'>\n",
      "(1+5j) <class 'complex'>\n",
      "krishna <class 'str'>\n"
     ]
    }
   ],
   "source": [
    "for i in t1:\n",
    "    print(i ,type(i))\n",
    "    "
   ]
  },
  {
   "cell_type": "code",
   "execution_count": 8,
   "id": "3d3d2bef-e50e-4ec6-b2d5-ce2ae7922d71",
   "metadata": {},
   "outputs": [],
   "source": [
    "t2=(1,2,3,4)"
   ]
  },
  {
   "cell_type": "code",
   "execution_count": 9,
   "id": "894fd28e-968a-454a-9fe3-a65f2abe6379",
   "metadata": {},
   "outputs": [
    {
     "data": {
      "text/plain": [
       "(1, 2, 3, 4)"
      ]
     },
     "execution_count": 9,
     "metadata": {},
     "output_type": "execute_result"
    }
   ],
   "source": [
    "t2"
   ]
  },
  {
   "cell_type": "code",
   "execution_count": 10,
   "id": "2e1ecadf-4585-4cbd-ae5e-ff3090730b02",
   "metadata": {},
   "outputs": [
    {
     "data": {
      "text/plain": [
       "(1, 2, 3, 4, 1, 2, 3, 4, 1, 2, 3, 4)"
      ]
     },
     "execution_count": 10,
     "metadata": {},
     "output_type": "execute_result"
    }
   ],
   "source": [
    "t2*3"
   ]
  },
  {
   "cell_type": "code",
   "execution_count": 11,
   "id": "3e885fc0-b63e-445e-be65-fd21fb26ebe4",
   "metadata": {},
   "outputs": [
    {
     "data": {
      "text/plain": [
       "4"
      ]
     },
     "execution_count": 11,
     "metadata": {},
     "output_type": "execute_result"
    }
   ],
   "source": [
    "max(t2)"
   ]
  },
  {
   "cell_type": "code",
   "execution_count": 13,
   "id": "a1ada3ad-a07a-47cd-966f-b3f83a8699d5",
   "metadata": {},
   "outputs": [
    {
     "data": {
      "text/plain": [
       "1"
      ]
     },
     "execution_count": 13,
     "metadata": {},
     "output_type": "execute_result"
    }
   ],
   "source": [
    "min(t2)"
   ]
  },
  {
   "cell_type": "markdown",
   "id": "444ab797-e803-429c-9416-988dcdf7763f",
   "metadata": {},
   "source": [
    "\"\"\"Tuples are immutable and does not allow to change any element at any index \"\"\""
   ]
  },
  {
   "cell_type": "code",
   "execution_count": 18,
   "id": "9e6bb6c1-22c4-44d6-9130-509b0033d211",
   "metadata": {},
   "outputs": [],
   "source": [
    "t1=(1,2,3,4,5)\n",
    "t2=(8,9,10,7)"
   ]
  },
  {
   "cell_type": "code",
   "execution_count": 19,
   "id": "a64d95b9-58e7-4b8e-b416-c3852ea38baa",
   "metadata": {},
   "outputs": [],
   "source": [
    "t3=(t1,t2)"
   ]
  },
  {
   "cell_type": "code",
   "execution_count": 20,
   "id": "5f80f292-860e-4143-b6ce-a33032eed32f",
   "metadata": {},
   "outputs": [
    {
     "data": {
      "text/plain": [
       "((1, 2, 3, 4, 5), (8, 9, 10, 7))"
      ]
     },
     "execution_count": 20,
     "metadata": {},
     "output_type": "execute_result"
    }
   ],
   "source": [
    "t3"
   ]
  },
  {
   "cell_type": "code",
   "execution_count": 21,
   "id": "a6d13908-6afa-4bfd-b527-324a941195e4",
   "metadata": {},
   "outputs": [],
   "source": [
    "t4=(5,8,9,[5,6,4])"
   ]
  },
  {
   "cell_type": "code",
   "execution_count": 22,
   "id": "67ead6ab-5fa8-4a6d-b383-06b1a6a927cd",
   "metadata": {},
   "outputs": [
    {
     "data": {
      "text/plain": [
       "(5, 8, 9, [5, 6, 4])"
      ]
     },
     "execution_count": 22,
     "metadata": {},
     "output_type": "execute_result"
    }
   ],
   "source": [
    "t4"
   ]
  },
  {
   "cell_type": "code",
   "execution_count": 23,
   "id": "36a8691d-e6f7-4bbb-9536-767becbd4d86",
   "metadata": {},
   "outputs": [],
   "source": [
    "del t4"
   ]
  },
  {
   "cell_type": "code",
   "execution_count": 24,
   "id": "3bcda640-b24f-43b6-9b42-b11332a1cb99",
   "metadata": {},
   "outputs": [
    {
     "ename": "NameError",
     "evalue": "name 't4' is not defined",
     "output_type": "error",
     "traceback": [
      "\u001b[0;31m---------------------------------------------------------------------------\u001b[0m",
      "\u001b[0;31mNameError\u001b[0m                                 Traceback (most recent call last)",
      "Cell \u001b[0;32mIn[24], line 1\u001b[0m\n\u001b[0;32m----> 1\u001b[0m \u001b[43mt4\u001b[49m\n",
      "\u001b[0;31mNameError\u001b[0m: name 't4' is not defined"
     ]
    }
   ],
   "source": [
    "t4"
   ]
  },
  {
   "cell_type": "code",
   "execution_count": 25,
   "id": "a0161e1a-0b9a-454c-8524-cb657101bb3b",
   "metadata": {},
   "outputs": [
    {
     "data": {
      "text/plain": [
       "(1, 2, 3, 4, 5)"
      ]
     },
     "execution_count": 25,
     "metadata": {},
     "output_type": "execute_result"
    }
   ],
   "source": [
    "t1"
   ]
  },
  {
   "cell_type": "code",
   "execution_count": 28,
   "id": "4b84f00d-81f3-4e8a-96c7-f7e0255b2dc7",
   "metadata": {},
   "outputs": [
    {
     "data": {
      "text/plain": [
       "5"
      ]
     },
     "execution_count": 28,
     "metadata": {},
     "output_type": "execute_result"
    }
   ],
   "source": [
    "len(t1)"
   ]
  },
  {
   "cell_type": "code",
   "execution_count": 29,
   "id": "8f8319b6-8f6e-43c7-baa0-a95225fb4bf2",
   "metadata": {},
   "outputs": [
    {
     "data": {
      "text/plain": [
       "(1, 2, 3, 4, 5)"
      ]
     },
     "execution_count": 29,
     "metadata": {},
     "output_type": "execute_result"
    }
   ],
   "source": [
    "t1"
   ]
  },
  {
   "cell_type": "code",
   "execution_count": 32,
   "id": "f3daa2ea-4df7-421b-9793-784439cf50db",
   "metadata": {},
   "outputs": [
    {
     "data": {
      "text/plain": [
       "False"
      ]
     },
     "execution_count": 32,
     "metadata": {},
     "output_type": "execute_result"
    }
   ],
   "source": [
    "\"krish\" in t1"
   ]
  },
  {
   "cell_type": "code",
   "execution_count": 31,
   "id": "d6ff2191-1282-454a-8468-2e52422cfe05",
   "metadata": {},
   "outputs": [
    {
     "data": {
      "text/plain": [
       "True"
      ]
     },
     "execution_count": 31,
     "metadata": {},
     "output_type": "execute_result"
    }
   ],
   "source": [
    "2 in t1"
   ]
  },
  {
   "cell_type": "code",
   "execution_count": null,
   "id": "0675618e-3f04-4071-ad44-5fcf7fd12b51",
   "metadata": {},
   "outputs": [],
   "source": []
  }
 ],
 "metadata": {
  "kernelspec": {
   "display_name": "Python 3 (ipykernel)",
   "language": "python",
   "name": "python3"
  },
  "language_info": {
   "codemirror_mode": {
    "name": "ipython",
    "version": 3
   },
   "file_extension": ".py",
   "mimetype": "text/x-python",
   "name": "python",
   "nbconvert_exporter": "python",
   "pygments_lexer": "ipython3",
   "version": "3.10.8"
  }
 },
 "nbformat": 4,
 "nbformat_minor": 5
}
